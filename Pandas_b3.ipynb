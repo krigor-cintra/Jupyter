{
 "cells": [
  {
   "cell_type": "markdown",
   "id": "19f40058",
   "metadata": {},
   "source": [
    " Importe as bibliotecas que são necessários"
   ]
  },
  {
   "cell_type": "code",
   "execution_count": 50,
   "id": "cbf1b113",
   "metadata": {},
   "outputs": [],
   "source": [
    "import pandas as pd\n",
    "import warnings\n",
    "warnings.simplefilter(\"ignore\")"
   ]
  },
  {
   "attachments": {},
   "cell_type": "markdown",
   "id": "2e8bf96c",
   "metadata": {},
   "source": [
    " Pegando os arquivos excel, extraidos da b3, por ano. \n",
    "\n",
    "Obs.:  O ano vigente precisa ser atualizado em toda execução, pois as informações seguem atualizando constatimente."
   ]
  },
  {
   "cell_type": "code",
   "execution_count": 51,
   "id": "e2d4c772",
   "metadata": {},
   "outputs": [],
   "source": [
    "ano2021 =pd.read_excel(\"C:\\\\Users\\Windows\\Downloads\\dados\\movimentacao-2021-01-01-a-2021-12-31.xlsx\")\n",
    "ano2022 = pd.read_excel(\"C://Users/Windows/Downloads/dados/movimentacao-2022-01-01-a-2022-12-31.xlsx\")\n",
    "ano2023 = pd.read_excel(\"C://Users/Windows/Downloads/dados/movimentacao-2023-01-01-a-2023-03-17.xlsx\")"
   ]
  },
  {
   "cell_type": "markdown",
   "id": "e2f541b3",
   "metadata": {},
   "source": [
    "Gerando um dataframe, juntnado as planilhas e refazendo os index "
   ]
  },
  {
   "cell_type": "code",
   "execution_count": 52,
   "id": "9b223ae3",
   "metadata": {},
   "outputs": [],
   "source": [
    "df = pd.concat([ano2021, ano2022, ano2023],axis=0, ignore_index=True, verify_integrity=True)"
   ]
  },
  {
   "cell_type": "markdown",
   "id": "4ec80b22",
   "metadata": {},
   "source": [
    "Gerando uma coluna nova, tirando o codigo da ação/fiis pelo texto"
   ]
  },
  {
   "cell_type": "code",
   "execution_count": 53,
   "id": "6b8c33e1",
   "metadata": {},
   "outputs": [],
   "source": [
    "df[\"Codigo\"] = df[\"Produto\"].str.split(\" \").str.get(0)\n"
   ]
  },
  {
   "cell_type": "markdown",
   "id": "3ba5c958",
   "metadata": {},
   "source": [
    "Pegando os codigos e tipos de investimento"
   ]
  },
  {
   "cell_type": "code",
   "execution_count": 54,
   "id": "d2e6941d",
   "metadata": {
    "scrolled": true
   },
   "outputs": [
    {
     "data": {
      "text/plain": [
       "['NUBR33',\n",
       " 'B3SA3',\n",
       " 'MORC11',\n",
       " 'MORE11',\n",
       " 'IRDM11',\n",
       " 'RAIZ4',\n",
       " 'VRTA11',\n",
       " 'VRTA13',\n",
       " 'CDB',\n",
       " 'CXCO11',\n",
       " 'JSAF11',\n",
       " 'RECR11',\n",
       " 'HABT11',\n",
       " 'CPFE3',\n",
       " 'TAEE11',\n",
       " 'CPLE6',\n",
       " 'ITSA4',\n",
       " 'CSMG3',\n",
       " 'SANB11',\n",
       " 'VRTA12',\n",
       " 'BBSE3',\n",
       " 'AURE3',\n",
       " 'MRVE3',\n",
       " 'Tesouro',\n",
       " 'OIBR3',\n",
       " 'TRPL4',\n",
       " 'RBRP11',\n",
       " 'HGLG11',\n",
       " 'BTLG11',\n",
       " 'HGBS11',\n",
       " 'MORC12']"
      ]
     },
     "execution_count": 54,
     "metadata": {},
     "output_type": "execute_result"
    }
   ],
   "source": [
    "list(df[\"Codigo\"].drop_duplicates())"
   ]
  },
  {
   "cell_type": "markdown",
   "id": "a69c4666",
   "metadata": {},
   "source": [
    "Foi feita a identificação de cada ativo e separado por classes | Necessário desenvolver um metodo para automatiza essa parte."
   ]
  },
  {
   "cell_type": "code",
   "execution_count": 55,
   "id": "ec77bcba",
   "metadata": {},
   "outputs": [],
   "source": [
    "a= [ 'B3SA3',\n",
    " 'RAIZ4',\n",
    " 'CPFE3',\n",
    " 'TAEE11',\n",
    " 'CPLE6',\n",
    " 'ITSA4',\n",
    " 'CSMG3',\n",
    " 'SANB11',\n",
    " 'BBSE3',\n",
    " 'AURE3',\n",
    " 'MRVE3',\n",
    " 'OIBR3',\n",
    " 'TRPL4',]\n",
    "b = ['NUBR33']\n",
    "f= [ 'MORC11',\n",
    " 'MORE11',\n",
    " 'IRDM11',\n",
    " 'VRTA11',\n",
    " 'VRTA13',\n",
    " 'CXCO11',\n",
    " 'JSAF11',\n",
    " 'RECR11',\n",
    " 'HABT11',\n",
    " 'VRTA12',\n",
    " 'RBRP11',\n",
    " 'HGLG11',\n",
    " 'BTLG11',\n",
    " 'HGBS11',\n",
    " 'MORC12']\n",
    "t= ['Tesouro']\n",
    "c=[\"CDB\"]"
   ]
  },
  {
   "cell_type": "markdown",
   "id": "37d607b4",
   "metadata": {},
   "source": [
    "Quantidade de cada ativo já movimentado no decorrer dos anos."
   ]
  },
  {
   "cell_type": "code",
   "execution_count": 26,
   "id": "e53e6475",
   "metadata": {},
   "outputs": [
    {
     "data": {
      "text/plain": [
       "(13, 1, 1, 15, 1)"
      ]
     },
     "execution_count": 26,
     "metadata": {},
     "output_type": "execute_result"
    }
   ],
   "source": [
    "len(a),len(t),len(c),len(f),len(b)"
   ]
  },
  {
   "cell_type": "markdown",
   "id": "7ec13aaf",
   "metadata": {},
   "source": [
    "Lendo os tipos de movimentações realizadas."
   ]
  },
  {
   "cell_type": "code",
   "execution_count": 27,
   "id": "404f0ea0",
   "metadata": {
    "scrolled": true
   },
   "outputs": [
    {
     "data": {
      "text/plain": [
       "['Transferência - Liquidação',\n",
       " 'Dividendo',\n",
       " 'Rendimento',\n",
       " 'COMPRA / VENDA',\n",
       " 'Transferência',\n",
       " 'Atualização',\n",
       " 'Juros Sobre Capital Próprio',\n",
       " 'Direitos de Subscrição - Não Exercido',\n",
       " 'Recibo de Subscrição',\n",
       " 'Cessão de Direitos - Solicitada',\n",
       " 'Solicitação de Subscrição',\n",
       " 'Cessão de Direitos',\n",
       " 'Direito de Subscrição',\n",
       " 'Venda',\n",
       " 'Compra',\n",
       " 'VENCIMENTO',\n",
       " 'Grupamento']"
      ]
     },
     "execution_count": 27,
     "metadata": {},
     "output_type": "execute_result"
    }
   ],
   "source": [
    "list(df[\"Movimentação\"].drop_duplicates())"
   ]
  },
  {
   "cell_type": "markdown",
   "id": "b92d7944",
   "metadata": {},
   "source": [
    "Criando dataframe so com informações de investimento  e rendimento\n"
   ]
  },
  {
   "cell_type": "code",
   "execution_count": 28,
   "id": "f6197454",
   "metadata": {},
   "outputs": [],
   "source": [
    "df_inv = df[(df[\"Movimentação\"]== 'Transferência - Liquidação') | (df[\"Movimentação\"]== 'Transferência')]"
   ]
  },
  {
   "cell_type": "code",
   "execution_count": 29,
   "id": "f6fe8df2",
   "metadata": {},
   "outputs": [],
   "source": [
    "df_rend = df[(df[\"Movimentação\"] =='Dividendo') | (df[\"Movimentação\"] =='Rendimento') | (df[\"Movimentação\"] == 'Juros Sobre Capital Próprio')]"
   ]
  },
  {
   "attachments": {},
   "cell_type": "markdown",
   "id": "47ffa4b3",
   "metadata": {},
   "source": [
    "Criação de filtro por tipo de investimento [ ações, fiss, tesouro, bdr]"
   ]
  },
  {
   "cell_type": "code",
   "execution_count": 30,
   "id": "f4b95c96",
   "metadata": {},
   "outputs": [],
   "source": [
    "ações =df[\"Codigo\"].isin(a)\n",
    "fiss=df[\"Codigo\"].isin(f)\n",
    "tesouro=df[\"Codigo\"].isin(t)\n",
    "bdr=df[\"Codigo\"].isin(b)"
   ]
  },
  {
   "attachments": {},
   "cell_type": "markdown",
   "id": "87241ecd",
   "metadata": {},
   "source": [
    "Tipos de dados no nosso dataframe"
   ]
  },
  {
   "cell_type": "code",
   "execution_count": 56,
   "id": "5b6a42ba",
   "metadata": {},
   "outputs": [
    {
     "data": {
      "text/plain": [
       "Entrada/Saída         object\n",
       "Data                  object\n",
       "Movimentação          object\n",
       "Produto               object\n",
       "Instituição           object\n",
       "Quantidade           float64\n",
       "Preço unitário        object\n",
       "Valor da Operação     object\n",
       "Codigo                object\n",
       "dtype: object"
      ]
     },
     "execution_count": 56,
     "metadata": {},
     "output_type": "execute_result"
    }
   ],
   "source": [
    "df.dtypes\n"
   ]
  },
  {
   "attachments": {},
   "cell_type": "markdown",
   "id": "847d1322",
   "metadata": {},
   "source": [
    "Realizando alteração de caracteres sem valores '-' para 0.\n",
    "Para que possamos realizar a alteração do tipo object para float"
   ]
  },
  {
   "cell_type": "code",
   "execution_count": 57,
   "id": "4b02e575",
   "metadata": {},
   "outputs": [],
   "source": [
    "df = df.replace('-', '0')\n"
   ]
  },
  {
   "attachments": {},
   "cell_type": "markdown",
   "id": "044e261c",
   "metadata": {},
   "source": [
    "Alteranado o tipo das colunas no dataframe.\n",
    "Object para float"
   ]
  },
  {
   "cell_type": "code",
   "execution_count": 58,
   "id": "c08e4c9a",
   "metadata": {},
   "outputs": [],
   "source": [
    "df[\"Valor da Operação\"] = df[\"Valor da Operação\"].astype(float)"
   ]
  },
  {
   "cell_type": "code",
   "execution_count": 59,
   "id": "057e527a",
   "metadata": {},
   "outputs": [],
   "source": [
    "df[\"Preço unitário\"] = df[\"Preço unitário\"].astype(float)"
   ]
  },
  {
   "attachments": {},
   "cell_type": "markdown",
   "id": "495bc38e",
   "metadata": {},
   "source": [
    "Novos tipos de dados do nosso dataframe"
   ]
  },
  {
   "cell_type": "code",
   "execution_count": 60,
   "id": "a6e34af0",
   "metadata": {},
   "outputs": [
    {
     "data": {
      "text/plain": [
       "Entrada/Saída         object\n",
       "Data                  object\n",
       "Movimentação          object\n",
       "Produto               object\n",
       "Instituição           object\n",
       "Quantidade           float64\n",
       "Preço unitário       float64\n",
       "Valor da Operação    float64\n",
       "Codigo                object\n",
       "dtype: object"
      ]
     },
     "execution_count": 60,
     "metadata": {},
     "output_type": "execute_result"
    }
   ],
   "source": [
    "df.dtypes"
   ]
  },
  {
   "cell_type": "code",
   "execution_count": null,
   "id": "a8796ce8",
   "metadata": {},
   "outputs": [],
   "source": []
  }
 ],
 "metadata": {
  "kernelspec": {
   "display_name": "Python 3 (ipykernel)",
   "language": "python",
   "name": "python3"
  },
  "language_info": {
   "codemirror_mode": {
    "name": "ipython",
    "version": 3
   },
   "file_extension": ".py",
   "mimetype": "text/x-python",
   "name": "python",
   "nbconvert_exporter": "python",
   "pygments_lexer": "ipython3",
   "version": "3.10.9"
  }
 },
 "nbformat": 4,
 "nbformat_minor": 5
}
