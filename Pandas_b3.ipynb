{
 "cells": [
  {
   "cell_type": "markdown",
   "id": "19f40058",
   "metadata": {},
   "source": [
    " Importe as bibliotecas que são necessários"
   ]
  },
  {
   "cell_type": "code",
   "execution_count": 20,
   "id": "cbf1b113",
   "metadata": {},
   "outputs": [],
   "source": [
    "import pandas as pd\n",
    "import warnings\n",
    "warnings.simplefilter(\"ignore\")"
   ]
  },
  {
   "cell_type": "markdown",
   "id": "2e8bf96c",
   "metadata": {},
   "source": [
    " Pegando os arquivos excel, extraidos da b3, por ano. \n",
    "    Obs.:  O ano vigente precisa ser atualizado toda vez que for necessario atualizar, pois as informações seguem atualizando constatimente."
   ]
  },
  {
   "cell_type": "code",
   "execution_count": 21,
   "id": "e2d4c772",
   "metadata": {},
   "outputs": [],
   "source": [
    "ano2021 =pd.read_excel(\"C:\\\\Users\\Windows\\Downloads\\dados\\movimentacao-2021-01-01-a-2021-12-31.xlsx\")\n",
    "ano2022 = pd.read_excel(\"C://Users/Windows/Downloads/dados/movimentacao-2022-01-01-a-2022-12-31.xlsx\")\n",
    "ano2023 = pd.read_excel(\"C://Users/Windows/Downloads/dados/movimentacao-2023-01-01-a-2023-03-17.xlsx\")"
   ]
  },
  {
   "cell_type": "markdown",
   "id": "e2f541b3",
   "metadata": {},
   "source": [
    "Gerando um dataframe, juntnado as planilhas e refazendo os index "
   ]
  },
  {
   "cell_type": "code",
   "execution_count": 22,
   "id": "9b223ae3",
   "metadata": {},
   "outputs": [],
   "source": [
    "df = pd.concat([ano2021, ano2022, ano2023],axis=0, ignore_index=True, verify_integrity=True)"
   ]
  },
  {
   "cell_type": "markdown",
   "id": "4ec80b22",
   "metadata": {},
   "source": [
    "Gerando uma coluna nova, tirando o codigo da ação/fiis pelo texto"
   ]
  },
  {
   "cell_type": "code",
   "execution_count": 23,
   "id": "6b8c33e1",
   "metadata": {},
   "outputs": [],
   "source": [
    "df[\"Codigo\"] = df[\"Produto\"].str.split(\" \").str.get(0)\n"
   ]
  },
  {
   "cell_type": "markdown",
   "id": "3ba5c958",
   "metadata": {},
   "source": [
    "Pegando os codigos e tipos de investimento"
   ]
  },
  {
   "cell_type": "code",
   "execution_count": 24,
   "id": "d2e6941d",
   "metadata": {
    "scrolled": true
   },
   "outputs": [
    {
     "data": {
      "text/plain": [
       "['NUBR33',\n",
       " 'B3SA3',\n",
       " 'MORC11',\n",
       " 'MORE11',\n",
       " 'IRDM11',\n",
       " 'RAIZ4',\n",
       " 'VRTA11',\n",
       " 'VRTA13',\n",
       " 'CDB',\n",
       " 'CXCO11',\n",
       " 'JSAF11',\n",
       " 'RECR11',\n",
       " 'HABT11',\n",
       " 'CPFE3',\n",
       " 'TAEE11',\n",
       " 'CPLE6',\n",
       " 'ITSA4',\n",
       " 'CSMG3',\n",
       " 'SANB11',\n",
       " 'VRTA12',\n",
       " 'BBSE3',\n",
       " 'AURE3',\n",
       " 'MRVE3',\n",
       " 'Tesouro',\n",
       " 'OIBR3',\n",
       " 'TRPL4',\n",
       " 'RBRP11',\n",
       " 'HGLG11',\n",
       " 'BTLG11',\n",
       " 'HGBS11',\n",
       " 'MORC12']"
      ]
     },
     "execution_count": 24,
     "metadata": {},
     "output_type": "execute_result"
    }
   ],
   "source": [
    "list(df[\"Codigo\"].drop_duplicates())"
   ]
  },
  {
   "cell_type": "markdown",
   "id": "a69c4666",
   "metadata": {},
   "source": [
    "Foi feita a identificação de cada ativo e separado por classes | Necessário desenvolver um metodo para automatiza essa parte."
   ]
  },
  {
   "cell_type": "code",
   "execution_count": 25,
   "id": "ec77bcba",
   "metadata": {},
   "outputs": [],
   "source": [
    "a= [ 'B3SA3',\n",
    " 'RAIZ4',\n",
    " 'CPFE3',\n",
    " 'TAEE11',\n",
    " 'CPLE6',\n",
    " 'ITSA4',\n",
    " 'CSMG3',\n",
    " 'SANB11',\n",
    " 'BBSE3',\n",
    " 'AURE3',\n",
    " 'MRVE3',\n",
    " 'OIBR3',\n",
    " 'TRPL4',]\n",
    "b = ['NUBR33']\n",
    "f= [ 'MORC11',\n",
    " 'MORE11',\n",
    " 'IRDM11',\n",
    " 'VRTA11',\n",
    " 'VRTA13',\n",
    " 'CXCO11',\n",
    " 'JSAF11',\n",
    " 'RECR11',\n",
    " 'HABT11',\n",
    " 'VRTA12',\n",
    " 'RBRP11',\n",
    " 'HGLG11',\n",
    " 'BTLG11',\n",
    " 'HGBS11',\n",
    " 'MORC12']\n",
    "t= ['Tesouro']\n",
    "c=[\"CDB\"]"
   ]
  },
  {
   "cell_type": "markdown",
   "id": "37d607b4",
   "metadata": {},
   "source": [
    "Quantidade de cada ativo já movimentado no decorrer dos anos."
   ]
  },
  {
   "cell_type": "code",
   "execution_count": 26,
   "id": "e53e6475",
   "metadata": {},
   "outputs": [
    {
     "data": {
      "text/plain": [
       "(13, 1, 1, 15, 1)"
      ]
     },
     "execution_count": 26,
     "metadata": {},
     "output_type": "execute_result"
    }
   ],
   "source": [
    "len(a),len(t),len(c),len(f),len(b)"
   ]
  },
  {
   "cell_type": "markdown",
   "id": "7ec13aaf",
   "metadata": {},
   "source": [
    "Lendo os tipos de movimentações realizadas."
   ]
  },
  {
   "cell_type": "code",
   "execution_count": 27,
   "id": "404f0ea0",
   "metadata": {
    "scrolled": true
   },
   "outputs": [
    {
     "data": {
      "text/plain": [
       "['Transferência - Liquidação',\n",
       " 'Dividendo',\n",
       " 'Rendimento',\n",
       " 'COMPRA / VENDA',\n",
       " 'Transferência',\n",
       " 'Atualização',\n",
       " 'Juros Sobre Capital Próprio',\n",
       " 'Direitos de Subscrição - Não Exercido',\n",
       " 'Recibo de Subscrição',\n",
       " 'Cessão de Direitos - Solicitada',\n",
       " 'Solicitação de Subscrição',\n",
       " 'Cessão de Direitos',\n",
       " 'Direito de Subscrição',\n",
       " 'Venda',\n",
       " 'Compra',\n",
       " 'VENCIMENTO',\n",
       " 'Grupamento']"
      ]
     },
     "execution_count": 27,
     "metadata": {},
     "output_type": "execute_result"
    }
   ],
   "source": [
    "list(df[\"Movimentação\"].drop_duplicates())"
   ]
  },
  {
   "cell_type": "markdown",
   "id": "b92d7944",
   "metadata": {},
   "source": [
    "Criando dataframe so com informações de investimento  e rendimento\n"
   ]
  },
  {
   "cell_type": "code",
   "execution_count": 28,
   "id": "f6197454",
   "metadata": {},
   "outputs": [],
   "source": [
    "df_inv = df[(df[\"Movimentação\"]== 'Transferência - Liquidação') | (df[\"Movimentação\"]== 'Transferência')]"
   ]
  },
  {
   "cell_type": "code",
   "execution_count": 29,
   "id": "f6fe8df2",
   "metadata": {},
   "outputs": [],
   "source": [
    "df_rend = df[(df[\"Movimentação\"] =='Dividendo') | (df[\"Movimentação\"] =='Rendimento') | (df[\"Movimentação\"] == 'Juros Sobre Capital Próprio')]"
   ]
  },
  {
   "cell_type": "code",
   "execution_count": 30,
   "id": "f4b95c96",
   "metadata": {},
   "outputs": [],
   "source": [
    "ações =df[\"Codigo\"].isin(a)\n",
    "fiss=df[\"Codigo\"].isin(f)\n",
    "tesouro=df[\"Codigo\"].isin(t)\n",
    "bdr=df[\"Codigo\"].isin(b)"
   ]
  },
  {
   "cell_type": "code",
   "execution_count": 31,
   "id": "f6d624b8",
   "metadata": {
    "scrolled": true
   },
   "outputs": [
    {
     "data": {
      "text/plain": [
       "145"
      ]
     },
     "execution_count": 31,
     "metadata": {},
     "output_type": "execute_result"
    }
   ],
   "source": [
    "df.shape[0]"
   ]
  },
  {
   "cell_type": "code",
   "execution_count": 32,
   "id": "8c24a826",
   "metadata": {},
   "outputs": [
    {
     "data": {
      "text/plain": [
       "35"
      ]
     },
     "execution_count": 32,
     "metadata": {},
     "output_type": "execute_result"
    }
   ],
   "source": [
    "df[ações].shape[0]\n"
   ]
  },
  {
   "cell_type": "code",
   "execution_count": 33,
   "id": "60c18c9a",
   "metadata": {},
   "outputs": [
    {
     "data": {
      "text/plain": [
       "83"
      ]
     },
     "execution_count": 33,
     "metadata": {},
     "output_type": "execute_result"
    }
   ],
   "source": [
    "df[fiss].shape[0]\n"
   ]
  },
  {
   "cell_type": "code",
   "execution_count": 34,
   "id": "934abf96",
   "metadata": {},
   "outputs": [
    {
     "data": {
      "text/plain": [
       "21"
      ]
     },
     "execution_count": 34,
     "metadata": {},
     "output_type": "execute_result"
    }
   ],
   "source": [
    "df[tesouro].shape[0]\n"
   ]
  },
  {
   "cell_type": "code",
   "execution_count": 35,
   "id": "f65f6169",
   "metadata": {},
   "outputs": [
    {
     "data": {
      "text/plain": [
       "2"
      ]
     },
     "execution_count": 35,
     "metadata": {},
     "output_type": "execute_result"
    }
   ],
   "source": [
    "df[bdr].shape[0]"
   ]
  },
  {
   "attachments": {},
   "cell_type": "markdown",
   "id": "87241ecd",
   "metadata": {},
   "source": [
    "Tipos de dados no nosso dataframe"
   ]
  },
  {
   "cell_type": "code",
   "execution_count": 36,
   "id": "5b6a42ba",
   "metadata": {},
   "outputs": [
    {
     "data": {
      "text/plain": [
       "Entrada/Saída         object\n",
       "Data                  object\n",
       "Movimentação          object\n",
       "Produto               object\n",
       "Instituição           object\n",
       "Quantidade           float64\n",
       "Preço unitário        object\n",
       "Valor da Operação     object\n",
       "Codigo                object\n",
       "dtype: object"
      ]
     },
     "execution_count": 36,
     "metadata": {},
     "output_type": "execute_result"
    }
   ],
   "source": [
    "df.dtypes\n"
   ]
  },
  {
   "cell_type": "code",
   "execution_count": 38,
   "id": "4b02e575",
   "metadata": {},
   "outputs": [],
   "source": [
    "df = df.replace('-', '0')\n"
   ]
  },
  {
   "cell_type": "code",
   "execution_count": 41,
   "id": "c08e4c9a",
   "metadata": {},
   "outputs": [],
   "source": [
    "df[\"Valor da Operação\"] = df[\"Valor da Operação\"].astype(float)"
   ]
  },
  {
   "cell_type": "code",
   "execution_count": 48,
   "id": "057e527a",
   "metadata": {},
   "outputs": [],
   "source": [
    "df[\"Preço unitário\"] = df[\"Preço unitário\"].astype(float)"
   ]
  },
  {
   "cell_type": "code",
   "execution_count": 49,
   "id": "a6e34af0",
   "metadata": {},
   "outputs": [
    {
     "data": {
      "text/plain": [
       "Entrada/Saída         object\n",
       "Data                  object\n",
       "Movimentação          object\n",
       "Produto               object\n",
       "Instituição           object\n",
       "Quantidade           float64\n",
       "Preço unitário       float64\n",
       "Valor da Operação    float64\n",
       "Codigo                object\n",
       "Preço unitario       float64\n",
       "dtype: object"
      ]
     },
     "execution_count": 49,
     "metadata": {},
     "output_type": "execute_result"
    }
   ],
   "source": [
    "df.dtypes"
   ]
  },
  {
   "cell_type": "code",
   "execution_count": 109,
   "id": "a8796ce8",
   "metadata": {},
   "outputs": [
    {
     "data": {
      "text/html": [
       "<div>\n",
       "<style scoped>\n",
       "    .dataframe tbody tr th:only-of-type {\n",
       "        vertical-align: middle;\n",
       "    }\n",
       "\n",
       "    .dataframe tbody tr th {\n",
       "        vertical-align: top;\n",
       "    }\n",
       "\n",
       "    .dataframe thead th {\n",
       "        text-align: right;\n",
       "    }\n",
       "</style>\n",
       "<table border=\"1\" class=\"dataframe\">\n",
       "  <thead>\n",
       "    <tr style=\"text-align: right;\">\n",
       "      <th></th>\n",
       "      <th>Entrada/Saída</th>\n",
       "      <th>Data</th>\n",
       "      <th>Movimentação</th>\n",
       "      <th>Produto</th>\n",
       "      <th>Instituição</th>\n",
       "      <th>Quantidade</th>\n",
       "      <th>Preço unitário</th>\n",
       "      <th>Valor da Operação</th>\n",
       "      <th>Codigo</th>\n",
       "    </tr>\n",
       "  </thead>\n",
       "  <tbody>\n",
       "    <tr>\n",
       "      <th>0</th>\n",
       "      <td>Credito</td>\n",
       "      <td>10/12/2021</td>\n",
       "      <td>Transferência - Liquidação</td>\n",
       "      <td>NUBR33 - NU HOLDINGS LTD.</td>\n",
       "      <td>NU INVEST CORRETORA DE VALORES S.A.</td>\n",
       "      <td>3.0</td>\n",
       "      <td>8.36</td>\n",
       "      <td>25.08</td>\n",
       "      <td>NUBR33</td>\n",
       "    </tr>\n",
       "    <tr>\n",
       "      <th>1</th>\n",
       "      <td>Credito</td>\n",
       "      <td>29/12/2022</td>\n",
       "      <td>Dividendo</td>\n",
       "      <td>B3SA3 - B3</td>\n",
       "      <td>INTER DISTRIBUIDORA DE TITULOS E VALORES MOBIL...</td>\n",
       "      <td>112.0</td>\n",
       "      <td>0.02</td>\n",
       "      <td>2.71</td>\n",
       "      <td>B3SA3</td>\n",
       "    </tr>\n",
       "    <tr>\n",
       "      <th>2</th>\n",
       "      <td>Credito</td>\n",
       "      <td>26/12/2022</td>\n",
       "      <td>Rendimento</td>\n",
       "      <td>MORC11 - MORE RECEBIVEIS IMOBILIARIOS FII - FII</td>\n",
       "      <td>INTER DISTRIBUIDORA DE TITULOS E VALORES MOBIL...</td>\n",
       "      <td>17.0</td>\n",
       "      <td>1.1</td>\n",
       "      <td>18.7</td>\n",
       "      <td>MORC11</td>\n",
       "    </tr>\n",
       "    <tr>\n",
       "      <th>3</th>\n",
       "      <td>Credito</td>\n",
       "      <td>20/12/2022</td>\n",
       "      <td>Rendimento</td>\n",
       "      <td>MORE11 - MORE REAL ESTATE FOF FII FII</td>\n",
       "      <td>INTER DISTRIBUIDORA DE TITULOS E VALORES MOBIL...</td>\n",
       "      <td>1.0</td>\n",
       "      <td>0.6</td>\n",
       "      <td>0.6</td>\n",
       "      <td>MORE11</td>\n",
       "    </tr>\n",
       "    <tr>\n",
       "      <th>4</th>\n",
       "      <td>Credito</td>\n",
       "      <td>16/12/2022</td>\n",
       "      <td>Rendimento</td>\n",
       "      <td>IRDM11 - FII IRIDIUM RECEBIVEIS IMOBILIARIOS</td>\n",
       "      <td>INTER DISTRIBUIDORA DE TITULOS E VALORES MOBIL...</td>\n",
       "      <td>16.0</td>\n",
       "      <td>0.7</td>\n",
       "      <td>11.22</td>\n",
       "      <td>IRDM11</td>\n",
       "    </tr>\n",
       "    <tr>\n",
       "      <th>...</th>\n",
       "      <td>...</td>\n",
       "      <td>...</td>\n",
       "      <td>...</td>\n",
       "      <td>...</td>\n",
       "      <td>...</td>\n",
       "      <td>...</td>\n",
       "      <td>...</td>\n",
       "      <td>...</td>\n",
       "      <td>...</td>\n",
       "    </tr>\n",
       "    <tr>\n",
       "      <th>140</th>\n",
       "      <td>Credito</td>\n",
       "      <td>13/01/2023</td>\n",
       "      <td>Rendimento</td>\n",
       "      <td>RECR11 - FDO INV IMOB - FII UBS (BR) RECEB IMOB</td>\n",
       "      <td>INTER DISTRIBUIDORA DE TITULOS E VALORES MOBIL...</td>\n",
       "      <td>6.0</td>\n",
       "      <td>0.92</td>\n",
       "      <td>5.54</td>\n",
       "      <td>RECR11</td>\n",
       "    </tr>\n",
       "    <tr>\n",
       "      <th>141</th>\n",
       "      <td>Credito</td>\n",
       "      <td>13/01/2023</td>\n",
       "      <td>Rendimento</td>\n",
       "      <td>VRTA11 - FATOR VERITA FUNDO DE INVESTIMENTO IM...</td>\n",
       "      <td>INTER DISTRIBUIDORA DE TITULOS E VALORES MOBIL...</td>\n",
       "      <td>12.0</td>\n",
       "      <td>0.9</td>\n",
       "      <td>10.8</td>\n",
       "      <td>VRTA11</td>\n",
       "    </tr>\n",
       "    <tr>\n",
       "      <th>142</th>\n",
       "      <td>Credito</td>\n",
       "      <td>12/01/2023</td>\n",
       "      <td>Rendimento</td>\n",
       "      <td>HABT11 - HABITAT II - FUNDO DE INVESTIMENTO IM...</td>\n",
       "      <td>INTER DISTRIBUIDORA DE TITULOS E VALORES MOBIL...</td>\n",
       "      <td>6.0</td>\n",
       "      <td>1.17</td>\n",
       "      <td>7.02</td>\n",
       "      <td>HABT11</td>\n",
       "    </tr>\n",
       "    <tr>\n",
       "      <th>143</th>\n",
       "      <td>Credito</td>\n",
       "      <td>10/01/2023</td>\n",
       "      <td>Grupamento</td>\n",
       "      <td>OIBR3 - OI S.A</td>\n",
       "      <td>INTER DISTRIBUIDORA DE TITULOS E VALORES MOBIL...</td>\n",
       "      <td>10.0</td>\n",
       "      <td>-</td>\n",
       "      <td>-</td>\n",
       "      <td>OIBR3</td>\n",
       "    </tr>\n",
       "    <tr>\n",
       "      <th>144</th>\n",
       "      <td>Credito</td>\n",
       "      <td>02/01/2023</td>\n",
       "      <td>Juros Sobre Capital Próprio</td>\n",
       "      <td>ITSA4 - ITAUSA S/A</td>\n",
       "      <td>INTER DISTRIBUIDORA DE TITULOS E VALORES MOBIL...</td>\n",
       "      <td>25.0</td>\n",
       "      <td>0.02</td>\n",
       "      <td>0.5</td>\n",
       "      <td>ITSA4</td>\n",
       "    </tr>\n",
       "  </tbody>\n",
       "</table>\n",
       "<p>145 rows × 9 columns</p>\n",
       "</div>"
      ],
      "text/plain": [
       "    Entrada/Saída        Data                 Movimentação  \\\n",
       "0         Credito  10/12/2021   Transferência - Liquidação   \n",
       "1         Credito  29/12/2022                    Dividendo   \n",
       "2         Credito  26/12/2022                   Rendimento   \n",
       "3         Credito  20/12/2022                   Rendimento   \n",
       "4         Credito  16/12/2022                   Rendimento   \n",
       "..            ...         ...                          ...   \n",
       "140       Credito  13/01/2023                   Rendimento   \n",
       "141       Credito  13/01/2023                   Rendimento   \n",
       "142       Credito  12/01/2023                   Rendimento   \n",
       "143       Credito  10/01/2023                   Grupamento   \n",
       "144       Credito  02/01/2023  Juros Sobre Capital Próprio   \n",
       "\n",
       "                                               Produto  \\\n",
       "0                            NUBR33 - NU HOLDINGS LTD.   \n",
       "1                                 B3SA3 - B3             \n",
       "2      MORC11 - MORE RECEBIVEIS IMOBILIARIOS FII - FII   \n",
       "3                MORE11 - MORE REAL ESTATE FOF FII FII   \n",
       "4         IRDM11 - FII IRIDIUM RECEBIVEIS IMOBILIARIOS   \n",
       "..                                                 ...   \n",
       "140    RECR11 - FDO INV IMOB - FII UBS (BR) RECEB IMOB   \n",
       "141  VRTA11 - FATOR VERITA FUNDO DE INVESTIMENTO IM...   \n",
       "142  HABT11 - HABITAT II - FUNDO DE INVESTIMENTO IM...   \n",
       "143                                     OIBR3 - OI S.A   \n",
       "144                                 ITSA4 - ITAUSA S/A   \n",
       "\n",
       "                                           Instituição  Quantidade  \\\n",
       "0                  NU INVEST CORRETORA DE VALORES S.A.         3.0   \n",
       "1    INTER DISTRIBUIDORA DE TITULOS E VALORES MOBIL...       112.0   \n",
       "2    INTER DISTRIBUIDORA DE TITULOS E VALORES MOBIL...        17.0   \n",
       "3    INTER DISTRIBUIDORA DE TITULOS E VALORES MOBIL...         1.0   \n",
       "4    INTER DISTRIBUIDORA DE TITULOS E VALORES MOBIL...        16.0   \n",
       "..                                                 ...         ...   \n",
       "140  INTER DISTRIBUIDORA DE TITULOS E VALORES MOBIL...         6.0   \n",
       "141  INTER DISTRIBUIDORA DE TITULOS E VALORES MOBIL...        12.0   \n",
       "142  INTER DISTRIBUIDORA DE TITULOS E VALORES MOBIL...         6.0   \n",
       "143  INTER DISTRIBUIDORA DE TITULOS E VALORES MOBIL...        10.0   \n",
       "144  INTER DISTRIBUIDORA DE TITULOS E VALORES MOBIL...        25.0   \n",
       "\n",
       "    Preço unitário Valor da Operação  Codigo  \n",
       "0             8.36             25.08  NUBR33  \n",
       "1             0.02              2.71   B3SA3  \n",
       "2              1.1              18.7  MORC11  \n",
       "3              0.6               0.6  MORE11  \n",
       "4              0.7             11.22  IRDM11  \n",
       "..             ...               ...     ...  \n",
       "140           0.92              5.54  RECR11  \n",
       "141            0.9              10.8  VRTA11  \n",
       "142           1.17              7.02  HABT11  \n",
       "143              -                 -   OIBR3  \n",
       "144           0.02               0.5   ITSA4  \n",
       "\n",
       "[145 rows x 9 columns]"
      ]
     },
     "execution_count": 109,
     "metadata": {},
     "output_type": "execute_result"
    }
   ],
   "source": []
  },
  {
   "cell_type": "code",
   "execution_count": null,
   "id": "afaac40d",
   "metadata": {},
   "outputs": [],
   "source": []
  }
 ],
 "metadata": {
  "kernelspec": {
   "display_name": "Python 3 (ipykernel)",
   "language": "python",
   "name": "python3"
  },
  "language_info": {
   "codemirror_mode": {
    "name": "ipython",
    "version": 3
   },
   "file_extension": ".py",
   "mimetype": "text/x-python",
   "name": "python",
   "nbconvert_exporter": "python",
   "pygments_lexer": "ipython3",
   "version": "3.10.9"
  }
 },
 "nbformat": 4,
 "nbformat_minor": 5
}
