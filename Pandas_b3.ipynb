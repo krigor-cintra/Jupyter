{
 "cells": [
  {
   "cell_type": "markdown",
   "id": "19f40058",
   "metadata": {},
   "source": [
    " Importe as bibliotecas que são necessários"
   ]
  },
  {
   "cell_type": "code",
   "execution_count": 2,
   "id": "cbf1b113",
   "metadata": {},
   "outputs": [],
   "source": [
    "import pandas as pd\n",
    "import warnings\n",
    "warnings.simplefilter(\"ignore\")"
   ]
  },
  {
   "cell_type": "markdown",
   "id": "2e8bf96c",
   "metadata": {},
   "source": [
    " Pegando os arquivos excel, extraidos da b3, por ano. \n",
    "    Obs.:  O ano vigente precisa ser atualizado toda vez que for necessario atualizar, pois as informações seguem atualizando constatimente."
   ]
  },
  {
   "cell_type": "code",
   "execution_count": 3,
   "id": "e2d4c772",
   "metadata": {},
   "outputs": [],
   "source": [
    "ano2021 =pd.read_excel(\"C:\\\\Users\\Windows\\Downloads\\dados\\movimentacao-2021-01-01-a-2021-12-31.xlsx\")\n",
    "ano2022 = pd.read_excel(\"C://Users/Windows/Downloads/dados/movimentacao-2022-01-01-a-2022-12-31.xlsx\")\n",
    "ano2023 = pd.read_excel(\"C://Users/Windows/Downloads/dados/movimentacao-2023-01-01-a-2023-03-17.xlsx\")"
   ]
  },
  {
   "cell_type": "markdown",
   "id": "e2f541b3",
   "metadata": {},
   "source": [
    "Gerando um dataframe, juntnado as planilhas e refazendo os index "
   ]
  },
  {
   "cell_type": "code",
   "execution_count": 4,
   "id": "9b223ae3",
   "metadata": {},
   "outputs": [],
   "source": [
    "df = pd.concat([ano2021, ano2022, ano2023],axis=0, ignore_index=True, verify_integrity=True)"
   ]
  },
  {
   "cell_type": "markdown",
   "id": "4ec80b22",
   "metadata": {},
   "source": [
    "Gerando uma coluna nova, tirando o codigo da ação/fiis pelo texto"
   ]
  },
  {
   "cell_type": "code",
   "execution_count": 5,
   "id": "6b8c33e1",
   "metadata": {},
   "outputs": [],
   "source": [
    "df[\"Codigo\"] = df[\"Produto\"].str.split(\" \").str.get(0)\n"
   ]
  },
  {
   "cell_type": "code",
   "execution_count": 6,
   "id": "d2e6941d",
   "metadata": {
    "scrolled": true
   },
   "outputs": [
    {
     "data": {
      "text/plain": [
       "['NUBR33',\n",
       " 'B3SA3',\n",
       " 'MORC11',\n",
       " 'MORE11',\n",
       " 'IRDM11',\n",
       " 'RAIZ4',\n",
       " 'VRTA11',\n",
       " 'VRTA13',\n",
       " 'CDB',\n",
       " 'CXCO11',\n",
       " 'JSAF11',\n",
       " 'RECR11',\n",
       " 'HABT11',\n",
       " 'CPFE3',\n",
       " 'TAEE11',\n",
       " 'CPLE6',\n",
       " 'ITSA4',\n",
       " 'CSMG3',\n",
       " 'SANB11',\n",
       " 'VRTA12',\n",
       " 'BBSE3',\n",
       " 'AURE3',\n",
       " 'MRVE3',\n",
       " 'Tesouro',\n",
       " 'OIBR3',\n",
       " 'TRPL4',\n",
       " 'RBRP11',\n",
       " 'HGLG11',\n",
       " 'BTLG11',\n",
       " 'HGBS11',\n",
       " 'MORC12']"
      ]
     },
     "execution_count": 6,
     "metadata": {},
     "output_type": "execute_result"
    }
   ],
   "source": [
    "list(df[\"Codigo\"].drop_duplicates())"
   ]
  },
  {
   "cell_type": "code",
   "execution_count": 36,
   "id": "ec77bcba",
   "metadata": {},
   "outputs": [],
   "source": [
    "a= [ 'B3SA3',\n",
    " 'RAIZ4',\n",
    " 'CPFE3',\n",
    " 'TAEE11',\n",
    " 'CPLE6',\n",
    " 'ITSA4',\n",
    " 'CSMG3',\n",
    " 'SANB11',\n",
    " 'BBSE3',\n",
    " 'AURE3',\n",
    " 'MRVE3',\n",
    " 'OIBR3',\n",
    " 'TRPL4',]\n",
    "b = ['NUBR33']\n",
    "f= [ 'MORC11',\n",
    " 'MORE11',\n",
    " 'IRDM11',\n",
    " 'VRTA11',\n",
    " 'VRTA13',\n",
    " 'CXCO11',\n",
    " 'JSAF11',\n",
    " 'RECR11',\n",
    " 'HABT11',\n",
    " 'VRTA12',\n",
    " 'RBRP11',\n",
    " 'HGLG11',\n",
    " 'BTLG11',\n",
    " 'HGBS11',\n",
    " 'MORC12']\n",
    "t= ['Tesouro']\n",
    "c=[\"CDB\"]"
   ]
  },
  {
   "cell_type": "code",
   "execution_count": 8,
   "id": "e53e6475",
   "metadata": {},
   "outputs": [
    {
     "data": {
      "text/plain": [
       "(13, 1, 1, 15)"
      ]
     },
     "execution_count": 8,
     "metadata": {},
     "output_type": "execute_result"
    }
   ],
   "source": [
    "len(ações),len(tesouro),len(cdb),len(fiis)"
   ]
  },
  {
   "cell_type": "code",
   "execution_count": 9,
   "id": "404f0ea0",
   "metadata": {
    "scrolled": true
   },
   "outputs": [
    {
     "data": {
      "text/plain": [
       "['Transferência - Liquidação',\n",
       " 'Dividendo',\n",
       " 'Rendimento',\n",
       " 'COMPRA / VENDA',\n",
       " 'Transferência',\n",
       " 'Atualização',\n",
       " 'Juros Sobre Capital Próprio',\n",
       " 'Direitos de Subscrição - Não Exercido',\n",
       " 'Recibo de Subscrição',\n",
       " 'Cessão de Direitos - Solicitada',\n",
       " 'Solicitação de Subscrição',\n",
       " 'Cessão de Direitos',\n",
       " 'Direito de Subscrição',\n",
       " 'Venda',\n",
       " 'Compra',\n",
       " 'VENCIMENTO',\n",
       " 'Grupamento']"
      ]
     },
     "execution_count": 9,
     "metadata": {},
     "output_type": "execute_result"
    }
   ],
   "source": [
    "list(df[\"Movimentação\"].drop_duplicates())"
   ]
  },
  {
   "cell_type": "code",
   "execution_count": 10,
   "id": "f6197454",
   "metadata": {},
   "outputs": [],
   "source": [
    "df_inv = df[(df[\"Movimentação\"]== 'Transferência - Liquidação') | (df[\"Movimentação\"]== 'Transferência')]"
   ]
  },
  {
   "cell_type": "code",
   "execution_count": 11,
   "id": "f6fe8df2",
   "metadata": {},
   "outputs": [],
   "source": [
    "df_rend = df[(df[\"Movimentação\"] =='Dividendo') | (df[\"Movimentação\"] =='Rendimento') | (df[\"Movimentação\"] == 'Juros Sobre Capital Próprio')]"
   ]
  },
  {
   "cell_type": "code",
   "execution_count": 37,
   "id": "f4b95c96",
   "metadata": {},
   "outputs": [],
   "source": [
    "ações =df[\"Codigo\"].isin(a)\n",
    "fiss=df[\"Codigo\"].isin(f)\n",
    "tesouro=df[\"Codigo\"].isin(t)"
   ]
  },
  {
   "cell_type": "code",
   "execution_count": 39,
   "id": "f6d624b8",
   "metadata": {
    "scrolled": true
   },
   "outputs": [
    {
     "data": {
      "text/html": [
       "<div>\n",
       "<style scoped>\n",
       "    .dataframe tbody tr th:only-of-type {\n",
       "        vertical-align: middle;\n",
       "    }\n",
       "\n",
       "    .dataframe tbody tr th {\n",
       "        vertical-align: top;\n",
       "    }\n",
       "\n",
       "    .dataframe thead th {\n",
       "        text-align: right;\n",
       "    }\n",
       "</style>\n",
       "<table border=\"1\" class=\"dataframe\">\n",
       "  <thead>\n",
       "    <tr style=\"text-align: right;\">\n",
       "      <th></th>\n",
       "      <th>Entrada/Saída</th>\n",
       "      <th>Data</th>\n",
       "      <th>Movimentação</th>\n",
       "      <th>Produto</th>\n",
       "      <th>Instituição</th>\n",
       "      <th>Quantidade</th>\n",
       "      <th>Preço unitário</th>\n",
       "      <th>Valor da Operação</th>\n",
       "      <th>Codigo</th>\n",
       "    </tr>\n",
       "  </thead>\n",
       "  <tbody>\n",
       "    <tr>\n",
       "      <th>2</th>\n",
       "      <td>Credito</td>\n",
       "      <td>26/12/2022</td>\n",
       "      <td>Rendimento</td>\n",
       "      <td>MORC11 - MORE RECEBIVEIS IMOBILIARIOS FII - FII</td>\n",
       "      <td>INTER DISTRIBUIDORA DE TITULOS E VALORES MOBIL...</td>\n",
       "      <td>17.0</td>\n",
       "      <td>1.1</td>\n",
       "      <td>18.7</td>\n",
       "      <td>MORC11</td>\n",
       "    </tr>\n",
       "    <tr>\n",
       "      <th>3</th>\n",
       "      <td>Credito</td>\n",
       "      <td>20/12/2022</td>\n",
       "      <td>Rendimento</td>\n",
       "      <td>MORE11 - MORE REAL ESTATE FOF FII FII</td>\n",
       "      <td>INTER DISTRIBUIDORA DE TITULOS E VALORES MOBIL...</td>\n",
       "      <td>1.0</td>\n",
       "      <td>0.6</td>\n",
       "      <td>0.6</td>\n",
       "      <td>MORE11</td>\n",
       "    </tr>\n",
       "    <tr>\n",
       "      <th>4</th>\n",
       "      <td>Credito</td>\n",
       "      <td>16/12/2022</td>\n",
       "      <td>Rendimento</td>\n",
       "      <td>IRDM11 - FII IRIDIUM RECEBIVEIS IMOBILIARIOS</td>\n",
       "      <td>INTER DISTRIBUIDORA DE TITULOS E VALORES MOBIL...</td>\n",
       "      <td>16.0</td>\n",
       "      <td>0.7</td>\n",
       "      <td>11.22</td>\n",
       "      <td>IRDM11</td>\n",
       "    </tr>\n",
       "    <tr>\n",
       "      <th>6</th>\n",
       "      <td>Credito</td>\n",
       "      <td>15/12/2022</td>\n",
       "      <td>Rendimento</td>\n",
       "      <td>VRTA11 - FATOR VERITA FUNDO DE INVESTIMENTO IM...</td>\n",
       "      <td>INTER DISTRIBUIDORA DE TITULOS E VALORES MOBIL...</td>\n",
       "      <td>10.0</td>\n",
       "      <td>0.9</td>\n",
       "      <td>9</td>\n",
       "      <td>VRTA11</td>\n",
       "    </tr>\n",
       "    <tr>\n",
       "      <th>7</th>\n",
       "      <td>Credito</td>\n",
       "      <td>15/12/2022</td>\n",
       "      <td>Rendimento</td>\n",
       "      <td>VRTA13 - FATOR VERITA FUNDO DE INVESTIMENTO IM...</td>\n",
       "      <td>INTER DISTRIBUIDORA DE TITULOS E VALORES MOBIL...</td>\n",
       "      <td>2.0</td>\n",
       "      <td>0.9</td>\n",
       "      <td>1.8</td>\n",
       "      <td>VRTA13</td>\n",
       "    </tr>\n",
       "    <tr>\n",
       "      <th>...</th>\n",
       "      <td>...</td>\n",
       "      <td>...</td>\n",
       "      <td>...</td>\n",
       "      <td>...</td>\n",
       "      <td>...</td>\n",
       "      <td>...</td>\n",
       "      <td>...</td>\n",
       "      <td>...</td>\n",
       "      <td>...</td>\n",
       "    </tr>\n",
       "    <tr>\n",
       "      <th>138</th>\n",
       "      <td>Credito</td>\n",
       "      <td>13/01/2023</td>\n",
       "      <td>Rendimento</td>\n",
       "      <td>CXCO11 - FUNDO DE INVESTIMENTO IMOBILIÁRIO CAI...</td>\n",
       "      <td>INTER DISTRIBUIDORA DE TITULOS E VALORES MOBIL...</td>\n",
       "      <td>4.0</td>\n",
       "      <td>0.72</td>\n",
       "      <td>2.89</td>\n",
       "      <td>CXCO11</td>\n",
       "    </tr>\n",
       "    <tr>\n",
       "      <th>139</th>\n",
       "      <td>Credito</td>\n",
       "      <td>13/01/2023</td>\n",
       "      <td>Rendimento</td>\n",
       "      <td>JSAF11 - JS ATIVOS FINANCEIROS FDO DE INV IMOB...</td>\n",
       "      <td>INTER DISTRIBUIDORA DE TITULOS E VALORES MOBIL...</td>\n",
       "      <td>1.0</td>\n",
       "      <td>0.93</td>\n",
       "      <td>0.93</td>\n",
       "      <td>JSAF11</td>\n",
       "    </tr>\n",
       "    <tr>\n",
       "      <th>140</th>\n",
       "      <td>Credito</td>\n",
       "      <td>13/01/2023</td>\n",
       "      <td>Rendimento</td>\n",
       "      <td>RECR11 - FDO INV IMOB - FII UBS (BR) RECEB IMOB</td>\n",
       "      <td>INTER DISTRIBUIDORA DE TITULOS E VALORES MOBIL...</td>\n",
       "      <td>6.0</td>\n",
       "      <td>0.92</td>\n",
       "      <td>5.54</td>\n",
       "      <td>RECR11</td>\n",
       "    </tr>\n",
       "    <tr>\n",
       "      <th>141</th>\n",
       "      <td>Credito</td>\n",
       "      <td>13/01/2023</td>\n",
       "      <td>Rendimento</td>\n",
       "      <td>VRTA11 - FATOR VERITA FUNDO DE INVESTIMENTO IM...</td>\n",
       "      <td>INTER DISTRIBUIDORA DE TITULOS E VALORES MOBIL...</td>\n",
       "      <td>12.0</td>\n",
       "      <td>0.9</td>\n",
       "      <td>10.8</td>\n",
       "      <td>VRTA11</td>\n",
       "    </tr>\n",
       "    <tr>\n",
       "      <th>142</th>\n",
       "      <td>Credito</td>\n",
       "      <td>12/01/2023</td>\n",
       "      <td>Rendimento</td>\n",
       "      <td>HABT11 - HABITAT II - FUNDO DE INVESTIMENTO IM...</td>\n",
       "      <td>INTER DISTRIBUIDORA DE TITULOS E VALORES MOBIL...</td>\n",
       "      <td>6.0</td>\n",
       "      <td>1.17</td>\n",
       "      <td>7.02</td>\n",
       "      <td>HABT11</td>\n",
       "    </tr>\n",
       "  </tbody>\n",
       "</table>\n",
       "<p>83 rows × 9 columns</p>\n",
       "</div>"
      ],
      "text/plain": [
       "    Entrada/Saída        Data Movimentação  \\\n",
       "2         Credito  26/12/2022   Rendimento   \n",
       "3         Credito  20/12/2022   Rendimento   \n",
       "4         Credito  16/12/2022   Rendimento   \n",
       "6         Credito  15/12/2022   Rendimento   \n",
       "7         Credito  15/12/2022   Rendimento   \n",
       "..            ...         ...          ...   \n",
       "138       Credito  13/01/2023   Rendimento   \n",
       "139       Credito  13/01/2023   Rendimento   \n",
       "140       Credito  13/01/2023   Rendimento   \n",
       "141       Credito  13/01/2023   Rendimento   \n",
       "142       Credito  12/01/2023   Rendimento   \n",
       "\n",
       "                                               Produto  \\\n",
       "2      MORC11 - MORE RECEBIVEIS IMOBILIARIOS FII - FII   \n",
       "3                MORE11 - MORE REAL ESTATE FOF FII FII   \n",
       "4         IRDM11 - FII IRIDIUM RECEBIVEIS IMOBILIARIOS   \n",
       "6    VRTA11 - FATOR VERITA FUNDO DE INVESTIMENTO IM...   \n",
       "7    VRTA13 - FATOR VERITA FUNDO DE INVESTIMENTO IM...   \n",
       "..                                                 ...   \n",
       "138  CXCO11 - FUNDO DE INVESTIMENTO IMOBILIÁRIO CAI...   \n",
       "139  JSAF11 - JS ATIVOS FINANCEIROS FDO DE INV IMOB...   \n",
       "140    RECR11 - FDO INV IMOB - FII UBS (BR) RECEB IMOB   \n",
       "141  VRTA11 - FATOR VERITA FUNDO DE INVESTIMENTO IM...   \n",
       "142  HABT11 - HABITAT II - FUNDO DE INVESTIMENTO IM...   \n",
       "\n",
       "                                           Instituição  Quantidade  \\\n",
       "2    INTER DISTRIBUIDORA DE TITULOS E VALORES MOBIL...        17.0   \n",
       "3    INTER DISTRIBUIDORA DE TITULOS E VALORES MOBIL...         1.0   \n",
       "4    INTER DISTRIBUIDORA DE TITULOS E VALORES MOBIL...        16.0   \n",
       "6    INTER DISTRIBUIDORA DE TITULOS E VALORES MOBIL...        10.0   \n",
       "7    INTER DISTRIBUIDORA DE TITULOS E VALORES MOBIL...         2.0   \n",
       "..                                                 ...         ...   \n",
       "138  INTER DISTRIBUIDORA DE TITULOS E VALORES MOBIL...         4.0   \n",
       "139  INTER DISTRIBUIDORA DE TITULOS E VALORES MOBIL...         1.0   \n",
       "140  INTER DISTRIBUIDORA DE TITULOS E VALORES MOBIL...         6.0   \n",
       "141  INTER DISTRIBUIDORA DE TITULOS E VALORES MOBIL...        12.0   \n",
       "142  INTER DISTRIBUIDORA DE TITULOS E VALORES MOBIL...         6.0   \n",
       "\n",
       "    Preço unitário Valor da Operação  Codigo  \n",
       "2              1.1              18.7  MORC11  \n",
       "3              0.6               0.6  MORE11  \n",
       "4              0.7             11.22  IRDM11  \n",
       "6              0.9                 9  VRTA11  \n",
       "7              0.9               1.8  VRTA13  \n",
       "..             ...               ...     ...  \n",
       "138           0.72              2.89  CXCO11  \n",
       "139           0.93              0.93  JSAF11  \n",
       "140           0.92              5.54  RECR11  \n",
       "141            0.9              10.8  VRTA11  \n",
       "142           1.17              7.02  HABT11  \n",
       "\n",
       "[83 rows x 9 columns]"
      ]
     },
     "execution_count": 39,
     "metadata": {},
     "output_type": "execute_result"
    }
   ],
   "source": [
    "df[fiss]"
   ]
  },
  {
   "cell_type": "code",
   "execution_count": null,
   "id": "8c24a826",
   "metadata": {},
   "outputs": [],
   "source": []
  }
 ],
 "metadata": {
  "kernelspec": {
   "display_name": "Python 3 (ipykernel)",
   "language": "python",
   "name": "python3"
  },
  "language_info": {
   "codemirror_mode": {
    "name": "ipython",
    "version": 3
   },
   "file_extension": ".py",
   "mimetype": "text/x-python",
   "name": "python",
   "nbconvert_exporter": "python",
   "pygments_lexer": "ipython3",
   "version": "3.10.9"
  }
 },
 "nbformat": 4,
 "nbformat_minor": 5
}
